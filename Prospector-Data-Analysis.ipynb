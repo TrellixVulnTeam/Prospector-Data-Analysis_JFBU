{
 "cells": [
  {
   "cell_type": "markdown",
   "id": "5eb28ba1",
   "metadata": {},
   "source": [
    "Loading the required modules and Prospector Reported Errors from a JSON file to a Panda DataFrame"
   ]
  },
  {
   "cell_type": "code",
   "execution_count": 358,
   "id": "2764401d",
   "metadata": {},
   "outputs": [
    {
     "name": "stdout",
     "output_type": "stream",
     "text": [
      "Requirement already satisfied: matplotlib in c:\\users\\william\\pycharmprojects\\prospector-data-analysis\\venv\\lib\\site-packages (3.4.1)\n",
      "Requirement already satisfied: pillow>=6.2.0 in c:\\users\\william\\pycharmprojects\\prospector-data-analysis\\venv\\lib\\site-packages (from matplotlib) (8.2.0)\n",
      "Requirement already satisfied: cycler>=0.10 in c:\\users\\william\\pycharmprojects\\prospector-data-analysis\\venv\\lib\\site-packages (from matplotlib) (0.10.0)\n",
      "Requirement already satisfied: python-dateutil>=2.7 in c:\\users\\william\\pycharmprojects\\prospector-data-analysis\\venv\\lib\\site-packages (from matplotlib) (2.8.1)\n",
      "Requirement already satisfied: numpy>=1.16 in c:\\users\\william\\pycharmprojects\\prospector-data-analysis\\venv\\lib\\site-packages (from matplotlib) (1.20.2)\n",
      "Requirement already satisfied: pyparsing>=2.2.1 in c:\\users\\william\\pycharmprojects\\prospector-data-analysis\\venv\\lib\\site-packages (from matplotlib) (2.4.7)\n",
      "Requirement already satisfied: kiwisolver>=1.0.1 in c:\\users\\william\\pycharmprojects\\prospector-data-analysis\\venv\\lib\\site-packages (from matplotlib) (1.3.1)\n",
      "Requirement already satisfied: six in c:\\users\\william\\pycharmprojects\\prospector-data-analysis\\venv\\lib\\site-packages (from cycler>=0.10->matplotlib) (1.15.0)\n"
     ]
    }
   ],
   "source": [
    "import pandas as pd\n",
    "import matplotlib.pyplot as plt\n",
    "prospector_data = pd.read_json('Prospector_report.json')\n",
    "pd.set_option(\"display.max.columns\", None)\n",
    "import sys\n",
    "!{sys.executable} -m pip install matplotlib"
   ]
  },
  {
   "cell_type": "markdown",
   "id": "77b0ccac",
   "metadata": {},
   "source": [
    "Dataframe Shape"
   ]
  },
  {
   "cell_type": "code",
   "execution_count": 359,
   "id": "162ba1fd",
   "metadata": {},
   "outputs": [
    {
     "name": "stdout",
     "output_type": "stream",
     "text": [
      "(136, 4)\n"
     ]
    }
   ],
   "source": [
    "print(prospector_data.shape)"
   ]
  },
  {
   "cell_type": "code",
   "execution_count": 360,
   "id": "05146068",
   "metadata": {},
   "outputs": [
    {
     "name": "stdout",
     "output_type": "stream",
     "text": [
      "   source                        code  \\\n",
      "0  pylint  missing-function-docstring   \n",
      "1  pylint             too-many-locals   \n",
      "2  pylint         too-many-statements   \n",
      "3  mccabe                      MC0001   \n",
      "4    pep8                        N816   \n",
      "\n",
      "                                            location  \\\n",
      "0  {'path': 'index.py', 'module': 'index', 'funct...   \n",
      "1  {'path': 'index.py', 'module': 'index', 'funct...   \n",
      "2  {'path': 'index.py', 'module': 'index', 'funct...   \n",
      "3  {'path': 'index.py', 'module': None, 'function...   \n",
      "4  {'path': 'index.py', 'module': None, 'function...   \n",
      "\n",
      "                                             message  \n",
      "0               Missing function or method docstring  \n",
      "1                   Too many local variables (28/15)  \n",
      "2                       Too many statements (436/60)  \n",
      "3                       blockify is too complex (57)  \n",
      "4  variable 'push_to_IBMBC' in global scope shoul...  \n"
     ]
    }
   ],
   "source": [
    "print(prospector_data.head())"
   ]
  },
  {
   "cell_type": "markdown",
   "id": "8bbc284a",
   "metadata": {},
   "source": [
    "    Information about the DataFrame"
   ]
  },
  {
   "cell_type": "code",
   "execution_count": 361,
   "id": "2425e464",
   "metadata": {},
   "outputs": [
    {
     "name": "stdout",
     "output_type": "stream",
     "text": [
      "<class 'pandas.core.frame.DataFrame'>\n",
      "RangeIndex: 136 entries, 0 to 135\n",
      "Data columns (total 4 columns):\n",
      " #   Column    Non-Null Count  Dtype \n",
      "---  ------    --------------  ----- \n",
      " 0   source    136 non-null    object\n",
      " 1   code      136 non-null    object\n",
      " 2   location  136 non-null    object\n",
      " 3   message   136 non-null    object\n",
      "dtypes: object(4)\n",
      "memory usage: 4.4+ KB\n",
      "None\n"
     ]
    }
   ],
   "source": [
    "print(prospector_data.info())"
   ]
  },
  {
   "cell_type": "markdown",
   "id": "b24195e4",
   "metadata": {},
   "source": [
    "Exploring distribution of errors among the tools that have generated them"
   ]
  },
  {
   "cell_type": "code",
   "execution_count": 362,
   "id": "e4a1fc69",
   "metadata": {},
   "outputs": [
    {
     "name": "stdout",
     "output_type": "stream",
     "text": [
      "pyflakes    96\n",
      "pylint      33\n",
      "pep8         5\n",
      "pep257       1\n",
      "mccabe       1\n",
      "Name: source, dtype: int64\n"
     ]
    }
   ],
   "source": [
    "source_based_analysis = prospector_data['source'].value_counts()\n",
    "print(source_based_analysis)"
   ]
  },
  {
   "cell_type": "markdown",
   "id": "46d7ce42",
   "metadata": {},
   "source": [
    "Visaulization of distribution of errors among the tools"
   ]
  },
  {
   "cell_type": "code",
   "execution_count": 363,
   "id": "3f176a48",
   "metadata": {},
   "outputs": [
    {
     "data": {
      "text/plain": [
       "<AxesSubplot:>"
      ]
     },
     "execution_count": 363,
     "metadata": {},
     "output_type": "execute_result"
    },
    {
     "data": {
      "image/png": "[encoded data removed]",
      "text/plain": [
       "<Figure size 432x288 with 1 Axes>"
      ]
     },
     "metadata": {
      "needs_background": "light"
     },
     "output_type": "display_data"
    }
   ],
   "source": [
    "source_based_analysis.plot(kind='bar')"
   ]
  },
  {
   "cell_type": "markdown",
   "id": "39a208a7",
   "metadata": {},
   "source": [
    "Exploring distribution of errors based on the error code"
   ]
  },
  {
   "cell_type": "code",
   "execution_count": 364,
   "id": "458caa48",
   "metadata": {},
   "outputs": [
    {
     "name": "stdout",
     "output_type": "stream",
     "text": [
      "F405                          95\n",
      "undefined-variable            12\n",
      "missing-function-docstring     9\n",
      "E501                           4\n",
      "wrong-import-position          4\n",
      "too-many-locals                1\n",
      "F841                           1\n",
      "too-many-statements            1\n",
      "N816                           1\n",
      "no-else-return                 1\n",
      "missing-module-docstring       1\n",
      "import-error                   1\n",
      "MC0001                         1\n",
      "D104                           1\n",
      "unused-wildcard-import         1\n",
      "unreachable                    1\n",
      "unused-variable                1\n",
      "Name: code, dtype: int64\n"
     ]
    }
   ],
   "source": [
    "code_based_analysis = prospector_data['code'].value_counts()\n",
    "print(code_based_analysis)"
   ]
  },
  {
   "cell_type": "markdown",
   "id": "9c136c75",
   "metadata": {},
   "source": [
    "Visaulization of distribution of errors based on error code"
   ]
  },
  {
   "cell_type": "code",
   "execution_count": 365,
   "id": "0d192a61",
   "metadata": {},
   "outputs": [
    {
     "data": {
      "text/plain": [
       "<AxesSubplot:>"
      ]
     },
     "execution_count": 365,
     "metadata": {},
     "output_type": "execute_result"
    },
    {
     "data": {
      "image/png": "[encoded data removed]",
      "text/plain": [
       "<Figure size 432x288 with 1 Axes>"
      ]
     },
     "metadata": {
      "needs_background": "light"
     },
     "output_type": "display_data"
    }
   ],
   "source": [
    "code_based_analysis.plot(kind='bar')"
   ]
  },
  {
   "cell_type": "markdown",
   "id": "6d89d9ef",
   "metadata": {},
   "source": [
    "Exploring distribution of errors based on their location (the file that contains the error)\n",
    "Mind the fact that the 'location' variable is a nested variable and has a JSON in it. Hence, we will flatten the JSON as a new dataframe"
   ]
  },
  {
   "cell_type": "code",
   "execution_count": 366,
   "id": "e3ea3fdf",
   "metadata": {},
   "outputs": [
    {
     "name": "stdout",
     "output_type": "stream",
     "text": [
      "<class 'pandas.core.frame.DataFrame'>\n",
      "RangeIndex: 136 entries, 0 to 135\n",
      "Data columns (total 5 columns):\n",
      " #   Column     Non-Null Count  Dtype \n",
      "---  ------     --------------  ----- \n",
      " 0   path       136 non-null    object\n",
      " 1   module     33 non-null     object\n",
      " 2   function   27 non-null     object\n",
      " 3   line       136 non-null    int64 \n",
      " 4   character  136 non-null    int64 \n",
      "dtypes: int64(2), object(3)\n",
      "memory usage: 5.4+ KB\n",
      "None\n"
     ]
    },
    {
     "name": "stderr",
     "output_type": "stream",
     "text": [
      "<ipython-input-366-f5dc3d127d47>:3: FutureWarning: pandas.io.json.json_normalize is deprecated, use pandas.json_normalize instead\n",
      "  location_based_analysis = json_normalize(prospector_data['location'])\n"
     ]
    }
   ],
   "source": [
    "import json\n",
    "from pandas.io.json import json_normalize \n",
    "location_based_analysis = json_normalize(prospector_data['location'])\n",
    "print(location_based_analysis.info())"
   ]
  },
  {
   "cell_type": "markdown",
   "id": "926faade",
   "metadata": {},
   "source": [
    "Distribution and Visualization of Distribution of errors based on the path"
   ]
  },
  {
   "cell_type": "code",
   "execution_count": 367,
   "id": "ebf091ad",
   "metadata": {},
   "outputs": [
    {
     "name": "stdout",
     "output_type": "stream",
     "text": [
      "index.py       135\n",
      "__init__.py      1\n",
      "Name: path, dtype: int64\n"
     ]
    },
    {
     "data": {
      "text/plain": [
       "<AxesSubplot:>"
      ]
     },
     "execution_count": 367,
     "metadata": {},
     "output_type": "execute_result"
    },
    {
     "data": {
      "image/png": "[encoded data removed]",
      "text/plain": [
       "<Figure size 432x288 with 1 Axes>"
      ]
     },
     "metadata": {
      "needs_background": "light"
     },
     "output_type": "display_data"
    }
   ],
   "source": [
    "path_based_analysis = location_based_analysis['path'].value_counts()\n",
    "print(path_based_analysis)\n",
    "path_based_analysis.plot(kind='bar')"
   ]
  },
  {
   "cell_type": "markdown",
   "id": "0a3906a6",
   "metadata": {},
   "source": [
    "Distribution and Visualization of Distribution of errors based on the module"
   ]
  },
  {
   "cell_type": "code",
   "execution_count": 368,
   "id": "a9e3b1c3",
   "metadata": {},
   "outputs": [
    {
     "name": "stdout",
     "output_type": "stream",
     "text": [
      "index    33\n",
      "Name: module, dtype: int64\n"
     ]
    },
    {
     "data": {
      "text/plain": [
       "<AxesSubplot:>"
      ]
     },
     "execution_count": 368,
     "metadata": {},
     "output_type": "execute_result"
    },
    {
     "data": {
      "image/png": "[encoded data removed]",
      "text/plain": [
       "<Figure size 432x288 with 1 Axes>"
      ]
     },
     "metadata": {
      "needs_background": "light"
     },
     "output_type": "display_data"
    }
   ],
   "source": [
    "module_based_analysis = location_based_analysis['module'].value_counts()\n",
    "print(module_based_analysis)\n",
    "module_based_analysis.plot(kind='bar')"
   ]
  },
  {
   "cell_type": "markdown",
   "id": "6b68d15a",
   "metadata": {},
   "source": [
    "Distribution and Visualization of Distribution of errors based on the function"
   ]
  },
  {
   "cell_type": "code",
   "execution_count": 369,
   "id": "44404610",
   "metadata": {},
   "outputs": [
    {
     "name": "stdout",
     "output_type": "stream",
     "text": [
      "blockify         17\n",
      "submit_digest     2\n",
      "search_tb         2\n",
      "displayStatus     1\n",
      "verify_digest     1\n",
      "verify_raw        1\n",
      "search_b          1\n",
      "verify_tb         1\n",
      "submit_raw        1\n",
      "Name: function, dtype: int64\n"
     ]
    },
    {
     "data": {
      "text/plain": [
       "<AxesSubplot:>"
      ]
     },
     "execution_count": 369,
     "metadata": {},
     "output_type": "execute_result"
    },
    {
     "data": {
      "image/png": "[encoded data removed]",
      "text/plain": [
       "<Figure size 432x288 with 1 Axes>"
      ]
     },
     "metadata": {
      "needs_background": "light"
     },
     "output_type": "display_data"
    }
   ],
   "source": [
    "function_based_analysis = location_based_analysis['function'].value_counts()\n",
    "print(function_based_analysis)\n",
    "function_based_analysis.plot(kind='bar')"
   ]
  },
  {
   "cell_type": "markdown",
   "id": "7a7434b3",
   "metadata": {},
   "source": [
    "The 'blockify' function is the one that has the most number of violations, however, to simplify the time-consuming process of checking 17 violoations, we will focus on the function with second most number of viloations. We choose 'submit_digest' for further analysis."
   ]
  },
  {
   "cell_type": "code",
   "execution_count": 395,
   "id": "574f42bc",
   "metadata": {},
   "outputs": [
    {
     "name": "stdout",
     "output_type": "stream",
     "text": [
      "     source                        code  \\\n",
      "126  pylint  missing-function-docstring   \n",
      "127  pylint              no-else-return   \n",
      "\n",
      "                                              location  \\\n",
      "126  {'path': 'index.py', 'module': 'index', 'funct...   \n",
      "127  {'path': 'index.py', 'module': 'index', 'funct...   \n",
      "\n",
      "                                  message       function  \n",
      "126  Missing function or method docstring  submit_digest  \n",
      "127     Unnecessary \"else\" after \"return\"  submit_digest  \n"
     ]
    },
    {
     "name": "stderr",
     "output_type": "stream",
     "text": [
      "<ipython-input-395-c47faf18f0b9>:1: FutureWarning: pandas.io.json.json_normalize is deprecated, use pandas.json_normalize instead\n",
      "  function_analysis = json_normalize(prospector_data['location'])\n"
     ]
    }
   ],
   "source": [
    "function_analysis = json_normalize(prospector_data['location'])\n",
    "\n",
    "# adding function element from the flattened location element to the main dataframe\n",
    "prospector_data['function'] = function_analysis['function']\n",
    "\n",
    "# selecting rows based on condition\n",
    "submit_digest_analysis = prospector_data[prospector_data['function'] == 'submit_digest']\n",
    "# The target lines for the two occurance of violations for submit_digest function\n",
    "print(submit_digest_analysis)"
   ]
  }
 ],
 "metadata": {
  "kernelspec": {
   "display_name": "Python 3",
   "language": "python",
   "name": "python3"
  },
  "language_info": {
   "codemirror_mode": {
    "name": "ipython",
    "version": 3
   },
   "file_extension": ".py",
   "mimetype": "text/x-python",
   "name": "python",
   "nbconvert_exporter": "python",
   "pygments_lexer": "ipython3",
   "version": "3.9.1"
  }
 },
 "nbformat": 4,
 "nbformat_minor": 5
}
